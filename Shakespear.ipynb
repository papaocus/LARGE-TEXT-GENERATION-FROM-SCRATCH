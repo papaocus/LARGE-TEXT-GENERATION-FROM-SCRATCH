{
  "cells": [
    {
      "cell_type": "code",
      "source": [
        "import os\n",
        "\n",
        "# Set your Kaggle API credentials\n",
        "os.environ['KAGGLE_USERNAME'] = 'danish2804'\n",
        "os.environ['KAGGLE_KEY'] = '787d6e4072b4a739cca74620eca94fc1'\n",
        "\n",
        "\n",
        "\n",
        "\n",
        "\n",
        "\n"
      ],
      "metadata": {
        "id": "QtWIalekeB3V"
      },
      "execution_count": null,
      "outputs": []
    },
    {
      "cell_type": "code",
      "source": [
        "from flask import Flask, request, jsonify\n",
        "import os\n",
        "import pandas as pd\n",
        "import numpy as np\n",
        "import torch\n",
        "import string\n",
        "import re\n",
        "from transformers import BertTokenizer, BertForMaskedLM\n",
        "\n",
        "app = Flask(__name__)\n",
        "\n",
        "\n",
        "os.environ['KAGGLE_USERNAME'] = 'danish2804'\n",
        "os.environ['KAGGLE_KEY'] = '787d6e4072b4a739cca74620eca94fc1'\n",
        "\n",
        "\n",
        "df = pd.read_csv('articles1.csv')\n",
        "\n",
        "import nltk\n",
        "nltk.download('stopwords')\n",
        "from nltk.corpus import stopwords\n",
        "stop_words = set(stopwords.words('english'))\n",
        "\n",
        "def preprocess(text):\n",
        "\n",
        "    text = re.sub(r'\\W+', ' ', text)\n",
        "  \n",
        "    text = ' '.join([word for word in text.split() if word.lower() not in stop_words])\n",
        " \n",
        "    text = text.translate(str.maketrans('', '', string.punctuation))\n",
        " \n",
        "    if not text:\n",
        "        return None\n",
        "    return text\n",
        "df['content'] = df['content'].apply(preprocess)\n",
        "\n",
        "df = df.dropna(subset=['content']).reset_index(drop=True)\n",
        "\n",
        "tokenizer = BertTokenizer.from_pretrained('bert-base-uncased')\n",
        "model = BertForMaskedLM.from_pretrained('bert-base-uncased')\n",
        "\n",
        "\n",
        "def generate_text(prompt, max_length=400):\n",
        "    \n",
        "    tokenized_prompt = tokenizer.encode(prompt, add_special_tokens=False, return_tensors='pt')\n",
        "\n",
        "  \n",
        "    for i in range(max_length):\n",
        "   \n",
        "        predictions = model(tokenized_prompt)[0]\n",
        "        predicted_token = predictions[0, -1].argmax().item()\n",
        "\n",
        "\n",
        "        predicted_word = tokenizer.convert_ids_to_tokens(predicted_token)\n",
        "\n",
        "\n",
        "        prompt = prompt[:512]\n",
        "\n",
        "        tokenized_prompt = tokenizer.encode(prompt, add_special_tokens=False, return_tensors='pt')\n",
        "        tokenized_prompt = torch.cat([tokenized_prompt, torch.tensor([[predicted_token]]).to(tokenized_prompt.device)], dim=1)\n",
        "\n",
        " \n",
        "        if predicted_word in ['.', '?', '!']:\n",
        "            break\n",
        "\n",
        "   \n",
        "    generated_text = tokenizer.decode(tokenized_prompt[0], skip_special_tokens=True)\n",
        "\n",
        "    return generated_text\n",
        "\n",
        "@app.route('/generate_text', methods=['POST'])\n",
        "def generate_text_api():\n",
        "\n",
        "    data = request.get_json()\n",
        "\n",
        "\n",
        "    prompt = data['prompt']\n",
        "\n",
        "    generated_text = generate_text(prompt)\n",
        "\n",
        "    return jsonify({'generated_text': generated_text})\n",
        "\n",
        "if __name__ == '__main__':\n",
        "    app.run(debug=True, port=5000)\n",
        "\n"
      ],
      "metadata": {
        "id": "FvbIer5SY5Um"
      },
      "execution_count": null,
      "outputs": []
    },
    {
      "cell_type": "code",
      "source": [],
      "metadata": {
        "id": "xq6juCvDHVDV"
      },
      "execution_count": null,
      "outputs": []
    }
  ],
  "metadata": {
    "accelerator": "GPU",
    "colab": {
      "provenance": []
    },
    "gpuClass": "standard",
    "kernelspec": {
      "display_name": "Python 3",
      "name": "python3"
    },
    "language_info": {
      "name": "python"
    }
  },
  "nbformat": 4,
  "nbformat_minor": 0
}